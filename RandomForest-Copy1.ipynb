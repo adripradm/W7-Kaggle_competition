{
 "cells": [
  {
   "cell_type": "code",
   "execution_count": 108,
   "id": "07d42d8c",
   "metadata": {},
   "outputs": [
    {
     "name": "stdout",
     "output_type": "stream",
     "text": [
      "Collecting umap-learn\n",
      "  Downloading umap-learn-0.5.3.tar.gz (88 kB)\n",
      "Requirement already satisfied: numpy>=1.17 in c:\\users\\alima\\anaconda3\\lib\\site-packages (from umap-learn) (1.20.3)\n",
      "Requirement already satisfied: scikit-learn>=0.22 in c:\\users\\alima\\anaconda3\\lib\\site-packages (from umap-learn) (0.24.2)\n",
      "Requirement already satisfied: scipy>=1.0 in c:\\users\\alima\\anaconda3\\lib\\site-packages (from umap-learn) (1.7.1)\n",
      "Requirement already satisfied: numba>=0.49 in c:\\users\\alima\\anaconda3\\lib\\site-packages (from umap-learn) (0.54.1)\n",
      "Collecting pynndescent>=0.5\n",
      "  Downloading pynndescent-0.5.6.tar.gz (1.1 MB)\n",
      "Requirement already satisfied: tqdm in c:\\users\\alima\\anaconda3\\lib\\site-packages (from umap-learn) (4.62.3)\n",
      "Requirement already satisfied: setuptools in c:\\users\\alima\\anaconda3\\lib\\site-packages (from numba>=0.49->umap-learn) (58.0.4)\n",
      "Requirement already satisfied: llvmlite<0.38,>=0.37.0rc1 in c:\\users\\alima\\anaconda3\\lib\\site-packages (from numba>=0.49->umap-learn) (0.37.0)\n",
      "Requirement already satisfied: joblib>=0.11 in c:\\users\\alima\\anaconda3\\lib\\site-packages (from pynndescent>=0.5->umap-learn) (1.1.0)\n",
      "Requirement already satisfied: threadpoolctl>=2.0.0 in c:\\users\\alima\\anaconda3\\lib\\site-packages (from scikit-learn>=0.22->umap-learn) (2.2.0)\n",
      "Requirement already satisfied: colorama in c:\\users\\alima\\anaconda3\\lib\\site-packages (from tqdm->umap-learn) (0.4.4)\n",
      "Building wheels for collected packages: umap-learn, pynndescent\n",
      "  Building wheel for umap-learn (setup.py): started\n",
      "  Building wheel for umap-learn (setup.py): finished with status 'done'\n",
      "  Created wheel for umap-learn: filename=umap_learn-0.5.3-py3-none-any.whl size=82830 sha256=861d667c7995fadd4c3480082e474e280cbb9428aaf66ead5a75dcd0fee44675\n",
      "  Stored in directory: c:\\users\\alima\\appdata\\local\\pip\\cache\\wheels\\f4\\3e\\1c\\596d0a463d17475af648688443fa4846fef624d1390339e7e9\n",
      "  Building wheel for pynndescent (setup.py): started\n",
      "  Building wheel for pynndescent (setup.py): finished with status 'done'\n",
      "  Created wheel for pynndescent: filename=pynndescent-0.5.6-py3-none-any.whl size=53945 sha256=cbffcb792e2b241883521a9808283a2a70a7513407f14f8ecde29575e8a5799f\n",
      "  Stored in directory: c:\\users\\alima\\appdata\\local\\pip\\cache\\wheels\\c0\\f0\\1d\\20aa0dcee54ef40c179a4a4f57fad413437864a67757013a99\n",
      "Successfully built umap-learn pynndescent\n",
      "Installing collected packages: pynndescent, umap-learn\n",
      "Successfully installed pynndescent-0.5.6 umap-learn-0.5.3\n"
     ]
    }
   ],
   "source": [
    "import pandas as pd\n",
    "%matplotlib inline\n",
    "import pylab as plt\n",
    "import seaborn as sns\n",
    "import numpy as np\n",
    "import h2o\n",
    "from h2o.automl import H2OAutoML\n",
    "\n",
    "from sklearn.ensemble import RandomForestRegressor as RFR\n",
    "\n",
    "\n",
    "from sklearn.preprocessing import StandardScaler\n",
    "\n",
    "scaler=StandardScaler()\n",
    "\n",
    "from sklearn.metrics import mean_squared_error as mse\n",
    "!pip install umap-learn\n",
    "from umap import UMAP\n",
    "\n",
    "pd.set_option('display.max_columns', None)\n",
    "from sklearn.preprocessing import LabelEncoder\n",
    "from sklearn.model_selection import train_test_split as tts "
   ]
  },
  {
   "cell_type": "code",
   "execution_count": 176,
   "id": "cc3c2128",
   "metadata": {},
   "outputs": [],
   "source": [
    "train=pd.read_csv('train.csv')"
   ]
  },
  {
   "cell_type": "code",
   "execution_count": 177,
   "id": "ff678551",
   "metadata": {},
   "outputs": [],
   "source": [
    "columnis=['property_type','neighbourhood_cleansed','host_location','availability_30','accommodates','host_verifications','bedrooms','availability_365', 'price', 'amenities', 'room_type']"
   ]
  },
  {
   "cell_type": "code",
   "execution_count": 178,
   "id": "1760f195",
   "metadata": {},
   "outputs": [],
   "source": [
    "cs=['property_type',\n",
    " 'neighbourhood_cleansed',\n",
    " 'host_location',\n",
    " 'availability_30',\n",
    " 'accommodates',\n",
    " 'host_verifications',\n",
    " 'bedrooms',\n",
    " 'availability_365',\n",
    " 'amenities',\n",
    " 'room_type']"
   ]
  },
  {
   "cell_type": "code",
   "execution_count": 179,
   "id": "90dd5a0e",
   "metadata": {},
   "outputs": [],
   "source": [
    "data=train[columns]"
   ]
  },
  {
   "cell_type": "code",
   "execution_count": 180,
   "id": "f63ed600",
   "metadata": {},
   "outputs": [
    {
     "data": {
      "text/html": [
       "<div>\n",
       "<style scoped>\n",
       "    .dataframe tbody tr th:only-of-type {\n",
       "        vertical-align: middle;\n",
       "    }\n",
       "\n",
       "    .dataframe tbody tr th {\n",
       "        vertical-align: top;\n",
       "    }\n",
       "\n",
       "    .dataframe thead th {\n",
       "        text-align: right;\n",
       "    }\n",
       "</style>\n",
       "<table border=\"1\" class=\"dataframe\">\n",
       "  <thead>\n",
       "    <tr style=\"text-align: right;\">\n",
       "      <th></th>\n",
       "      <th>property_type</th>\n",
       "      <th>neighbourhood_cleansed</th>\n",
       "      <th>host_location</th>\n",
       "      <th>availability_30</th>\n",
       "      <th>accommodates</th>\n",
       "      <th>host_verifications</th>\n",
       "      <th>bedrooms</th>\n",
       "      <th>availability_365</th>\n",
       "      <th>price</th>\n",
       "      <th>amenities</th>\n",
       "      <th>room_type</th>\n",
       "    </tr>\n",
       "  </thead>\n",
       "  <tbody>\n",
       "    <tr>\n",
       "      <th>0</th>\n",
       "      <td>Private room in farm stay</td>\n",
       "      <td>Noord-Oost</td>\n",
       "      <td>Amsterdam, North Holland, The Netherlands</td>\n",
       "      <td>0</td>\n",
       "      <td>3</td>\n",
       "      <td>['email', 'phone', 'reviews', 'jumio', 'offlin...</td>\n",
       "      <td>1.0</td>\n",
       "      <td>249</td>\n",
       "      <td>87.0</td>\n",
       "      <td>[\"First aid kit\", \"Free parking on premises\", ...</td>\n",
       "      <td>Private room</td>\n",
       "    </tr>\n",
       "    <tr>\n",
       "      <th>1</th>\n",
       "      <td>Entire rental unit</td>\n",
       "      <td>Centrum-Oost</td>\n",
       "      <td>Amsterdam, Noord-Holland, Netherlands</td>\n",
       "      <td>3</td>\n",
       "      <td>4</td>\n",
       "      <td>['email', 'phone', 'reviews']</td>\n",
       "      <td>2.0</td>\n",
       "      <td>3</td>\n",
       "      <td>250.0</td>\n",
       "      <td>[\"Hot water kettle\", \"Pocket wifi\", \"Stove\", \"...</td>\n",
       "      <td>Entire home/apt</td>\n",
       "    </tr>\n",
       "    <tr>\n",
       "      <th>2</th>\n",
       "      <td>Room in serviced apartment</td>\n",
       "      <td>Zuid</td>\n",
       "      <td>Wassenaar, South Holland, Netherlands</td>\n",
       "      <td>25</td>\n",
       "      <td>2</td>\n",
       "      <td>['email', 'phone']</td>\n",
       "      <td>1.0</td>\n",
       "      <td>267</td>\n",
       "      <td>151.0</td>\n",
       "      <td>[\"Air conditioning\", \"First aid kit\", \"Hangers...</td>\n",
       "      <td>Hotel room</td>\n",
       "    </tr>\n",
       "    <tr>\n",
       "      <th>3</th>\n",
       "      <td>Entire rental unit</td>\n",
       "      <td>De Baarsjes - Oud-West</td>\n",
       "      <td>Amsterdam, North Holland, Netherlands</td>\n",
       "      <td>0</td>\n",
       "      <td>2</td>\n",
       "      <td>['email', 'phone', 'facebook']</td>\n",
       "      <td>1.0</td>\n",
       "      <td>0</td>\n",
       "      <td>139.0</td>\n",
       "      <td>[\"Hair dryer\", \"Stove\", \"Dishes and silverware...</td>\n",
       "      <td>Entire home/apt</td>\n",
       "    </tr>\n",
       "    <tr>\n",
       "      <th>4</th>\n",
       "      <td>Private room in rental unit</td>\n",
       "      <td>Zuid</td>\n",
       "      <td>Amsterdam, North Holland, The Netherlands</td>\n",
       "      <td>18</td>\n",
       "      <td>2</td>\n",
       "      <td>['email', 'phone', 'reviews', 'manual_offline'...</td>\n",
       "      <td>1.0</td>\n",
       "      <td>349</td>\n",
       "      <td>95.0</td>\n",
       "      <td>[\"Hair dryer\", \"Dishes and silverware\", \"Ether...</td>\n",
       "      <td>Private room</td>\n",
       "    </tr>\n",
       "  </tbody>\n",
       "</table>\n",
       "</div>"
      ],
      "text/plain": [
       "                 property_type  neighbourhood_cleansed  \\\n",
       "0    Private room in farm stay              Noord-Oost   \n",
       "1           Entire rental unit            Centrum-Oost   \n",
       "2   Room in serviced apartment                    Zuid   \n",
       "3           Entire rental unit  De Baarsjes - Oud-West   \n",
       "4  Private room in rental unit                    Zuid   \n",
       "\n",
       "                               host_location  availability_30  accommodates  \\\n",
       "0  Amsterdam, North Holland, The Netherlands                0             3   \n",
       "1      Amsterdam, Noord-Holland, Netherlands                3             4   \n",
       "2      Wassenaar, South Holland, Netherlands               25             2   \n",
       "3      Amsterdam, North Holland, Netherlands                0             2   \n",
       "4  Amsterdam, North Holland, The Netherlands               18             2   \n",
       "\n",
       "                                  host_verifications  bedrooms  \\\n",
       "0  ['email', 'phone', 'reviews', 'jumio', 'offlin...       1.0   \n",
       "1                      ['email', 'phone', 'reviews']       2.0   \n",
       "2                                 ['email', 'phone']       1.0   \n",
       "3                     ['email', 'phone', 'facebook']       1.0   \n",
       "4  ['email', 'phone', 'reviews', 'manual_offline'...       1.0   \n",
       "\n",
       "   availability_365  price                                          amenities  \\\n",
       "0               249   87.0  [\"First aid kit\", \"Free parking on premises\", ...   \n",
       "1                 3  250.0  [\"Hot water kettle\", \"Pocket wifi\", \"Stove\", \"...   \n",
       "2               267  151.0  [\"Air conditioning\", \"First aid kit\", \"Hangers...   \n",
       "3                 0  139.0  [\"Hair dryer\", \"Stove\", \"Dishes and silverware...   \n",
       "4               349   95.0  [\"Hair dryer\", \"Dishes and silverware\", \"Ether...   \n",
       "\n",
       "         room_type  \n",
       "0     Private room  \n",
       "1  Entire home/apt  \n",
       "2       Hotel room  \n",
       "3  Entire home/apt  \n",
       "4     Private room  "
      ]
     },
     "execution_count": 180,
     "metadata": {},
     "output_type": "execute_result"
    }
   ],
   "source": [
    "data.head()"
   ]
  },
  {
   "cell_type": "code",
   "execution_count": null,
   "id": "c133d584",
   "metadata": {},
   "outputs": [],
   "source": []
  },
  {
   "cell_type": "code",
   "execution_count": 181,
   "id": "4954579e",
   "metadata": {},
   "outputs": [
    {
     "data": {
      "image/png": "[encoded data removed]",
      "text/plain": [
       "<Figure size 1080x720 with 2 Axes>"
      ]
     },
     "metadata": {
      "needs_background": "light"
     },
     "output_type": "display_data"
    }
   ],
   "source": [
    "plt.figure(figsize=(15, 10))\n",
    "\n",
    "sns.set(style='white')\n",
    "\n",
    "mask=np.triu(np.ones_like(data.corr(), dtype=bool))\n",
    "\n",
    "cmap=sns.diverging_palette(0, 10, as_cmap=True)\n",
    "\n",
    "\n",
    "\n",
    "sns.heatmap(data.corr(),\n",
    "           mask=mask,\n",
    "          cmap=cmap,\n",
    "          center=0,\n",
    "          square=True,\n",
    "          linewidths=0.5,\n",
    "          cbar_kws={'shrink': 0.5},\n",
    "           annot=True);\n"
   ]
  },
  {
   "cell_type": "code",
   "execution_count": 182,
   "id": "a2bdd2d9",
   "metadata": {},
   "outputs": [
    {
     "name": "stdout",
     "output_type": "stream",
     "text": [
      "<class 'pandas.core.frame.DataFrame'>\n",
      "RangeIndex: 3903 entries, 0 to 3902\n",
      "Data columns (total 11 columns):\n",
      " #   Column                  Non-Null Count  Dtype  \n",
      "---  ------                  --------------  -----  \n",
      " 0   property_type           3903 non-null   object \n",
      " 1   neighbourhood_cleansed  3903 non-null   object \n",
      " 2   host_location           3903 non-null   object \n",
      " 3   availability_30         3903 non-null   int64  \n",
      " 4   accommodates            3903 non-null   int64  \n",
      " 5   host_verifications      3903 non-null   object \n",
      " 6   bedrooms                3903 non-null   float64\n",
      " 7   availability_365        3903 non-null   int64  \n",
      " 8   price                   3903 non-null   float64\n",
      " 9   amenities               3903 non-null   object \n",
      " 10  room_type               3903 non-null   object \n",
      "dtypes: float64(2), int64(3), object(6)\n",
      "memory usage: 335.5+ KB\n"
     ]
    },
    {
     "name": "stderr",
     "output_type": "stream",
     "text": [
      "C:\\Users\\alima\\anaconda3\\lib\\site-packages\\pandas\\util\\_decorators.py:311: SettingWithCopyWarning: \n",
      "A value is trying to be set on a copy of a slice from a DataFrame\n",
      "\n",
      "See the caveats in the documentation: https://pandas.pydata.org/pandas-docs/stable/user_guide/indexing.html#returning-a-view-versus-a-copy\n",
      "  return func(*args, **kwargs)\n",
      "C:\\Users\\alima\\anaconda3\\lib\\site-packages\\pandas\\core\\frame.py:4906: SettingWithCopyWarning: \n",
      "A value is trying to be set on a copy of a slice from a DataFrame\n",
      "\n",
      "See the caveats in the documentation: https://pandas.pydata.org/pandas-docs/stable/user_guide/indexing.html#returning-a-view-versus-a-copy\n",
      "  return super().drop(\n"
     ]
    }
   ],
   "source": [
    "data.dropna(inplace=True)\n",
    "data.reset_index(inplace=True)\n",
    "data.drop(columns='index', inplace=True)\n",
    "data.info()"
   ]
  },
  {
   "cell_type": "code",
   "execution_count": 183,
   "id": "98ecb64f",
   "metadata": {},
   "outputs": [
    {
     "name": "stderr",
     "output_type": "stream",
     "text": [
      "C:\\Users\\alima\\AppData\\Local\\Temp/ipykernel_18008/1202753181.py:12: SettingWithCopyWarning: \n",
      "A value is trying to be set on a copy of a slice from a DataFrame.\n",
      "Try using .loc[row_indexer,col_indexer] = value instead\n",
      "\n",
      "See the caveats in the documentation: https://pandas.pydata.org/pandas-docs/stable/user_guide/indexing.html#returning-a-view-versus-a-copy\n",
      "  data['neighbourhood_cleansed']=data['neighbourhood_cleansed'].map(n)\n",
      "C:\\Users\\alima\\anaconda3\\lib\\site-packages\\pandas\\core\\generic.py:5516: SettingWithCopyWarning: \n",
      "A value is trying to be set on a copy of a slice from a DataFrame.\n",
      "Try using .loc[row_indexer,col_indexer] = value instead\n",
      "\n",
      "See the caveats in the documentation: https://pandas.pydata.org/pandas-docs/stable/user_guide/indexing.html#returning-a-view-versus-a-copy\n",
      "  self[name] = value\n"
     ]
    },
    {
     "data": {
      "text/html": [
       "<div>\n",
       "<style scoped>\n",
       "    .dataframe tbody tr th:only-of-type {\n",
       "        vertical-align: middle;\n",
       "    }\n",
       "\n",
       "    .dataframe tbody tr th {\n",
       "        vertical-align: top;\n",
       "    }\n",
       "\n",
       "    .dataframe thead th {\n",
       "        text-align: right;\n",
       "    }\n",
       "</style>\n",
       "<table border=\"1\" class=\"dataframe\">\n",
       "  <thead>\n",
       "    <tr style=\"text-align: right;\">\n",
       "      <th></th>\n",
       "      <th>barrio</th>\n",
       "      <th>precio</th>\n",
       "      <th>std</th>\n",
       "    </tr>\n",
       "  </thead>\n",
       "  <tbody>\n",
       "    <tr>\n",
       "      <th>0</th>\n",
       "      <td>Noord-Oost</td>\n",
       "      <td>1.329211</td>\n",
       "      <td>77.603740</td>\n",
       "    </tr>\n",
       "    <tr>\n",
       "      <th>1</th>\n",
       "      <td>Centrum-Oost</td>\n",
       "      <td>2.072463</td>\n",
       "      <td>451.943859</td>\n",
       "    </tr>\n",
       "    <tr>\n",
       "      <th>2</th>\n",
       "      <td>Zuid</td>\n",
       "      <td>1.719885</td>\n",
       "      <td>108.540242</td>\n",
       "    </tr>\n",
       "    <tr>\n",
       "      <th>3</th>\n",
       "      <td>De Baarsjes - Oud-West</td>\n",
       "      <td>1.556852</td>\n",
       "      <td>96.022283</td>\n",
       "    </tr>\n",
       "    <tr>\n",
       "      <th>4</th>\n",
       "      <td>De Pijp - Rivierenbuurt</td>\n",
       "      <td>1.745767</td>\n",
       "      <td>132.117030</td>\n",
       "    </tr>\n",
       "    <tr>\n",
       "      <th>5</th>\n",
       "      <td>Oud-Oost</td>\n",
       "      <td>1.562045</td>\n",
       "      <td>101.247128</td>\n",
       "    </tr>\n",
       "    <tr>\n",
       "      <th>6</th>\n",
       "      <td>Westerpark</td>\n",
       "      <td>1.575010</td>\n",
       "      <td>101.096318</td>\n",
       "    </tr>\n",
       "    <tr>\n",
       "      <th>7</th>\n",
       "      <td>Centrum-West</td>\n",
       "      <td>1.789196</td>\n",
       "      <td>130.485512</td>\n",
       "    </tr>\n",
       "    <tr>\n",
       "      <th>8</th>\n",
       "      <td>Buitenveldert - Zuidas</td>\n",
       "      <td>1.273397</td>\n",
       "      <td>73.311125</td>\n",
       "    </tr>\n",
       "    <tr>\n",
       "      <th>9</th>\n",
       "      <td>IJburg - Zeeburgereiland</td>\n",
       "      <td>1.786474</td>\n",
       "      <td>115.045152</td>\n",
       "    </tr>\n",
       "    <tr>\n",
       "      <th>10</th>\n",
       "      <td>Oud-Noord</td>\n",
       "      <td>1.766403</td>\n",
       "      <td>165.077199</td>\n",
       "    </tr>\n",
       "    <tr>\n",
       "      <th>11</th>\n",
       "      <td>De Aker - Nieuw Sloten</td>\n",
       "      <td>1.466020</td>\n",
       "      <td>175.055224</td>\n",
       "    </tr>\n",
       "    <tr>\n",
       "      <th>12</th>\n",
       "      <td>Bos en Lommer</td>\n",
       "      <td>1.288151</td>\n",
       "      <td>65.954146</td>\n",
       "    </tr>\n",
       "    <tr>\n",
       "      <th>13</th>\n",
       "      <td>Bijlmer-Centrum</td>\n",
       "      <td>1.710837</td>\n",
       "      <td>183.204132</td>\n",
       "    </tr>\n",
       "    <tr>\n",
       "      <th>14</th>\n",
       "      <td>Oostelijk Havengebied - Indische Buurt</td>\n",
       "      <td>1.355325</td>\n",
       "      <td>83.855838</td>\n",
       "    </tr>\n",
       "    <tr>\n",
       "      <th>15</th>\n",
       "      <td>Watergraafsmeer</td>\n",
       "      <td>1.570821</td>\n",
       "      <td>99.314150</td>\n",
       "    </tr>\n",
       "    <tr>\n",
       "      <th>16</th>\n",
       "      <td>Noord-West</td>\n",
       "      <td>1.299010</td>\n",
       "      <td>74.995273</td>\n",
       "    </tr>\n",
       "    <tr>\n",
       "      <th>17</th>\n",
       "      <td>Osdorp</td>\n",
       "      <td>1.067014</td>\n",
       "      <td>64.029135</td>\n",
       "    </tr>\n",
       "    <tr>\n",
       "      <th>18</th>\n",
       "      <td>Geuzenveld - Slotermeer</td>\n",
       "      <td>1.177940</td>\n",
       "      <td>68.900887</td>\n",
       "    </tr>\n",
       "    <tr>\n",
       "      <th>19</th>\n",
       "      <td>Gaasperdam - Driemond</td>\n",
       "      <td>1.000000</td>\n",
       "      <td>74.454375</td>\n",
       "    </tr>\n",
       "    <tr>\n",
       "      <th>20</th>\n",
       "      <td>Slotervaart</td>\n",
       "      <td>1.096672</td>\n",
       "      <td>64.910194</td>\n",
       "    </tr>\n",
       "    <tr>\n",
       "      <th>21</th>\n",
       "      <td>Bijlmer-Oost</td>\n",
       "      <td>1.171766</td>\n",
       "      <td>99.248975</td>\n",
       "    </tr>\n",
       "  </tbody>\n",
       "</table>\n",
       "</div>"
      ],
      "text/plain": [
       "                                    barrio    precio         std\n",
       "0                               Noord-Oost  1.329211   77.603740\n",
       "1                             Centrum-Oost  2.072463  451.943859\n",
       "2                                     Zuid  1.719885  108.540242\n",
       "3                   De Baarsjes - Oud-West  1.556852   96.022283\n",
       "4                  De Pijp - Rivierenbuurt  1.745767  132.117030\n",
       "5                                 Oud-Oost  1.562045  101.247128\n",
       "6                               Westerpark  1.575010  101.096318\n",
       "7                             Centrum-West  1.789196  130.485512\n",
       "8                   Buitenveldert - Zuidas  1.273397   73.311125\n",
       "9                 IJburg - Zeeburgereiland  1.786474  115.045152\n",
       "10                               Oud-Noord  1.766403  165.077199\n",
       "11                  De Aker - Nieuw Sloten  1.466020  175.055224\n",
       "12                           Bos en Lommer  1.288151   65.954146\n",
       "13                         Bijlmer-Centrum  1.710837  183.204132\n",
       "14  Oostelijk Havengebied - Indische Buurt  1.355325   83.855838\n",
       "15                         Watergraafsmeer  1.570821   99.314150\n",
       "16                              Noord-West  1.299010   74.995273\n",
       "17                                  Osdorp  1.067014   64.029135\n",
       "18                 Geuzenveld - Slotermeer  1.177940   68.900887\n",
       "19                   Gaasperdam - Driemond  1.000000   74.454375\n",
       "20                             Slotervaart  1.096672   64.910194\n",
       "21                            Bijlmer-Oost  1.171766   99.248975"
      ]
     },
     "execution_count": 183,
     "metadata": {},
     "output_type": "execute_result"
    }
   ],
   "source": [
    "neighbourhood_cleansed=data.neighbourhood_cleansed.unique()\n",
    "precio=[data[data['neighbourhood_cleansed']==i]['price'].mean() for i in neighbourhood_cleansed]\n",
    "std=[data[data['neighbourhood_cleansed']==i]['price'].std() for i in neighbourhood_cleansed]\n",
    "barrios=pd.DataFrame(neighbourhood_cleansed)\n",
    "barrios['precio']=precio\n",
    "barrios['std']=std\n",
    "barrios['std']=barrios['std']/barrios['std'].min()\n",
    "barrios.rename(columns={0: \"barrio\"}, inplace=True)\n",
    "barrios['precio']=barrios['precio']/barrios['precio'].min()\n",
    "barrios['std']=[data[data['neighbourhood_cleansed']==i]['price'].std() for i in neighbourhood_cleansed]\n",
    "n=barrios.set_index('barrio').T.to_dict('list')\n",
    "data['neighbourhood_cleansed']=data['neighbourhood_cleansed'].map(n)\n",
    "\n",
    "data.neighbourhood_cleansed=[float(data.neighbourhood_cleansed[i][0]) for i in range(len(data))]\n",
    "barrios"
   ]
  },
  {
   "cell_type": "code",
   "execution_count": 184,
   "id": "f4e6e235",
   "metadata": {},
   "outputs": [],
   "source": [
    "data=data.dropna()"
   ]
  },
  {
   "cell_type": "code",
   "execution_count": 185,
   "id": "c8cad4e3",
   "metadata": {},
   "outputs": [
    {
     "name": "stdout",
     "output_type": "stream",
     "text": [
      "<class 'pandas.core.frame.DataFrame'>\n",
      "Int64Index: 3903 entries, 0 to 3902\n",
      "Data columns (total 11 columns):\n",
      " #   Column                  Non-Null Count  Dtype  \n",
      "---  ------                  --------------  -----  \n",
      " 0   property_type           3903 non-null   object \n",
      " 1   neighbourhood_cleansed  3903 non-null   float64\n",
      " 2   host_location           3903 non-null   object \n",
      " 3   availability_30         3903 non-null   int64  \n",
      " 4   accommodates            3903 non-null   int64  \n",
      " 5   host_verifications      3903 non-null   object \n",
      " 6   bedrooms                3903 non-null   float64\n",
      " 7   availability_365        3903 non-null   int64  \n",
      " 8   price                   3903 non-null   float64\n",
      " 9   amenities               3903 non-null   object \n",
      " 10  room_type               3903 non-null   object \n",
      "dtypes: float64(3), int64(3), object(5)\n",
      "memory usage: 365.9+ KB\n"
     ]
    }
   ],
   "source": [
    "data.info()"
   ]
  },
  {
   "cell_type": "code",
   "execution_count": 186,
   "id": "01250b6b",
   "metadata": {},
   "outputs": [],
   "source": [
    "bosque=RFR()"
   ]
  },
  {
   "cell_type": "code",
   "execution_count": 187,
   "id": "559311a8",
   "metadata": {},
   "outputs": [
    {
     "data": {
      "text/plain": [
       "['property_type',\n",
       " 'host_location',\n",
       " 'host_verifications',\n",
       " 'price',\n",
       " 'amenities',\n",
       " 'room_type']"
      ]
     },
     "execution_count": 187,
     "metadata": {},
     "output_type": "execute_result"
    }
   ],
   "source": [
    "columnas=['neighbourhood_cleansed',\n",
    " \n",
    " 'availability_30',\n",
    " 'accommodates',\n",
    " \n",
    " 'bedrooms',\n",
    " 'availability_365']\n",
    "cols=[e for e in columnis if e not in columnas]\n",
    "cols"
   ]
  },
  {
   "cell_type": "code",
   "execution_count": 188,
   "id": "3fd41e88",
   "metadata": {},
   "outputs": [],
   "source": [
    "X=data.drop('price', axis=1)\n",
    "X[columnas]=scaler.fit_transform(X[columnas])\n",
    "\n",
    "y=data.price"
   ]
  },
  {
   "cell_type": "code",
   "execution_count": 189,
   "id": "995f4705",
   "metadata": {},
   "outputs": [],
   "source": [
    "X=pd.get_dummies(X, columns=['property_type', 'host_location', 'host_verifications', 'amenities', 'room_type'], drop_first=True)\n",
    "\n"
   ]
  },
  {
   "cell_type": "code",
   "execution_count": 190,
   "id": "6d9d8574",
   "metadata": {},
   "outputs": [
    {
     "data": {
      "text/plain": [
       "(3903, 4178)"
      ]
     },
     "execution_count": 190,
     "metadata": {},
     "output_type": "execute_result"
    }
   ],
   "source": [
    "X.shape"
   ]
  },
  {
   "cell_type": "code",
   "execution_count": 191,
   "id": "6971d62c",
   "metadata": {},
   "outputs": [
    {
     "data": {
      "text/plain": [
       "((3122, 4178), (781, 4178), (3122,), (781,))"
      ]
     },
     "execution_count": 191,
     "metadata": {},
     "output_type": "execute_result"
    }
   ],
   "source": [
    "X_train, X_test, y_train, y_test = tts(X, y, \n",
    "                                                    test_size=0.2, train_size=0.8,\n",
    "                                                    random_state=42)\n",
    "\n",
    "X_train.shape, X_test.shape, y_train.shape, y_test.shape"
   ]
  },
  {
   "cell_type": "code",
   "execution_count": 192,
   "id": "3941e6de",
   "metadata": {},
   "outputs": [],
   "source": [
    "def get_umap(data, n):\n",
    "    \n",
    "    umap=UMAP(n_components=n)\n",
    "    emb=umap.fit_transform(data)\n",
    "    \n",
    "    return pd.DataFrame(emb, columns=[f'emb_{i+1}' for i in range(n)])"
   ]
  },
  {
   "cell_type": "code",
   "execution_count": 193,
   "id": "29187236",
   "metadata": {},
   "outputs": [
    {
     "data": {
      "text/html": [
       "<div>\n",
       "<style scoped>\n",
       "    .dataframe tbody tr th:only-of-type {\n",
       "        vertical-align: middle;\n",
       "    }\n",
       "\n",
       "    .dataframe tbody tr th {\n",
       "        vertical-align: top;\n",
       "    }\n",
       "\n",
       "    .dataframe thead th {\n",
       "        text-align: right;\n",
       "    }\n",
       "</style>\n",
       "<table border=\"1\" class=\"dataframe\">\n",
       "  <thead>\n",
       "    <tr style=\"text-align: right;\">\n",
       "      <th></th>\n",
       "      <th>emb_1</th>\n",
       "      <th>emb_2</th>\n",
       "      <th>emb_3</th>\n",
       "      <th>emb_4</th>\n",
       "      <th>emb_5</th>\n",
       "      <th>emb_6</th>\n",
       "      <th>emb_7</th>\n",
       "      <th>emb_8</th>\n",
       "      <th>emb_9</th>\n",
       "      <th>emb_10</th>\n",
       "    </tr>\n",
       "  </thead>\n",
       "  <tbody>\n",
       "    <tr>\n",
       "      <th>0</th>\n",
       "      <td>10.129777</td>\n",
       "      <td>11.039364</td>\n",
       "      <td>8.216273</td>\n",
       "      <td>8.723012</td>\n",
       "      <td>6.575370</td>\n",
       "      <td>6.250368</td>\n",
       "      <td>3.567901</td>\n",
       "      <td>7.511579</td>\n",
       "      <td>6.831855</td>\n",
       "      <td>5.163366</td>\n",
       "    </tr>\n",
       "    <tr>\n",
       "      <th>1</th>\n",
       "      <td>8.829134</td>\n",
       "      <td>12.128358</td>\n",
       "      <td>8.451055</td>\n",
       "      <td>7.300880</td>\n",
       "      <td>8.546309</td>\n",
       "      <td>2.316650</td>\n",
       "      <td>3.666896</td>\n",
       "      <td>7.358140</td>\n",
       "      <td>7.213555</td>\n",
       "      <td>2.291353</td>\n",
       "    </tr>\n",
       "    <tr>\n",
       "      <th>2</th>\n",
       "      <td>9.032593</td>\n",
       "      <td>12.004367</td>\n",
       "      <td>8.417618</td>\n",
       "      <td>7.933980</td>\n",
       "      <td>7.364161</td>\n",
       "      <td>3.617914</td>\n",
       "      <td>3.712720</td>\n",
       "      <td>7.079918</td>\n",
       "      <td>6.762961</td>\n",
       "      <td>2.916654</td>\n",
       "    </tr>\n",
       "    <tr>\n",
       "      <th>3</th>\n",
       "      <td>9.246069</td>\n",
       "      <td>10.805040</td>\n",
       "      <td>7.661102</td>\n",
       "      <td>8.396314</td>\n",
       "      <td>7.883540</td>\n",
       "      <td>5.487841</td>\n",
       "      <td>3.393209</td>\n",
       "      <td>8.621997</td>\n",
       "      <td>7.276681</td>\n",
       "      <td>5.905595</td>\n",
       "    </tr>\n",
       "    <tr>\n",
       "      <th>4</th>\n",
       "      <td>3.740898</td>\n",
       "      <td>9.339901</td>\n",
       "      <td>9.589066</td>\n",
       "      <td>8.408273</td>\n",
       "      <td>5.466785</td>\n",
       "      <td>3.825786</td>\n",
       "      <td>4.924235</td>\n",
       "      <td>7.489168</td>\n",
       "      <td>6.234231</td>\n",
       "      <td>3.124536</td>\n",
       "    </tr>\n",
       "  </tbody>\n",
       "</table>\n",
       "</div>"
      ],
      "text/plain": [
       "       emb_1      emb_2     emb_3     emb_4     emb_5     emb_6     emb_7  \\\n",
       "0  10.129777  11.039364  8.216273  8.723012  6.575370  6.250368  3.567901   \n",
       "1   8.829134  12.128358  8.451055  7.300880  8.546309  2.316650  3.666896   \n",
       "2   9.032593  12.004367  8.417618  7.933980  7.364161  3.617914  3.712720   \n",
       "3   9.246069  10.805040  7.661102  8.396314  7.883540  5.487841  3.393209   \n",
       "4   3.740898   9.339901  9.589066  8.408273  5.466785  3.825786  4.924235   \n",
       "\n",
       "      emb_8     emb_9    emb_10  \n",
       "0  7.511579  6.831855  5.163366  \n",
       "1  7.358140  7.213555  2.291353  \n",
       "2  7.079918  6.762961  2.916654  \n",
       "3  8.621997  7.276681  5.905595  \n",
       "4  7.489168  6.234231  3.124536  "
      ]
     },
     "execution_count": 193,
     "metadata": {},
     "output_type": "execute_result"
    }
   ],
   "source": [
    "umap_df=get_umap(X_train, 10)\n",
    "\n",
    "umap_df.head()\n",
    "\n"
   ]
  },
  {
   "cell_type": "code",
   "execution_count": 194,
   "id": "7ee79706",
   "metadata": {},
   "outputs": [
    {
     "data": {
      "text/html": [
       "<div>\n",
       "<style scoped>\n",
       "    .dataframe tbody tr th:only-of-type {\n",
       "        vertical-align: middle;\n",
       "    }\n",
       "\n",
       "    .dataframe tbody tr th {\n",
       "        vertical-align: top;\n",
       "    }\n",
       "\n",
       "    .dataframe thead th {\n",
       "        text-align: right;\n",
       "    }\n",
       "</style>\n",
       "<table border=\"1\" class=\"dataframe\">\n",
       "  <thead>\n",
       "    <tr style=\"text-align: right;\">\n",
       "      <th></th>\n",
       "      <th>emb_1</th>\n",
       "      <th>emb_2</th>\n",
       "      <th>emb_3</th>\n",
       "      <th>emb_4</th>\n",
       "      <th>emb_5</th>\n",
       "      <th>emb_6</th>\n",
       "      <th>emb_7</th>\n",
       "      <th>emb_8</th>\n",
       "      <th>emb_9</th>\n",
       "      <th>emb_10</th>\n",
       "    </tr>\n",
       "  </thead>\n",
       "  <tbody>\n",
       "    <tr>\n",
       "      <th>0</th>\n",
       "      <td>2.961096</td>\n",
       "      <td>7.419236</td>\n",
       "      <td>8.469494</td>\n",
       "      <td>6.025414</td>\n",
       "      <td>5.952639</td>\n",
       "      <td>3.731661</td>\n",
       "      <td>6.739046</td>\n",
       "      <td>5.791390</td>\n",
       "      <td>3.540363</td>\n",
       "      <td>7.032580</td>\n",
       "    </tr>\n",
       "    <tr>\n",
       "      <th>1</th>\n",
       "      <td>3.454718</td>\n",
       "      <td>7.031582</td>\n",
       "      <td>8.077419</td>\n",
       "      <td>4.293340</td>\n",
       "      <td>6.288572</td>\n",
       "      <td>3.953180</td>\n",
       "      <td>6.260670</td>\n",
       "      <td>5.598912</td>\n",
       "      <td>3.967519</td>\n",
       "      <td>7.890588</td>\n",
       "    </tr>\n",
       "    <tr>\n",
       "      <th>2</th>\n",
       "      <td>4.119293</td>\n",
       "      <td>6.360645</td>\n",
       "      <td>8.317073</td>\n",
       "      <td>4.873484</td>\n",
       "      <td>5.937131</td>\n",
       "      <td>3.909969</td>\n",
       "      <td>5.870169</td>\n",
       "      <td>6.559531</td>\n",
       "      <td>3.971288</td>\n",
       "      <td>6.963860</td>\n",
       "    </tr>\n",
       "    <tr>\n",
       "      <th>3</th>\n",
       "      <td>3.484880</td>\n",
       "      <td>6.753818</td>\n",
       "      <td>8.114833</td>\n",
       "      <td>5.083810</td>\n",
       "      <td>6.271190</td>\n",
       "      <td>3.832956</td>\n",
       "      <td>6.765232</td>\n",
       "      <td>5.900875</td>\n",
       "      <td>3.829377</td>\n",
       "      <td>7.013055</td>\n",
       "    </tr>\n",
       "    <tr>\n",
       "      <th>4</th>\n",
       "      <td>5.731535</td>\n",
       "      <td>6.183383</td>\n",
       "      <td>11.713827</td>\n",
       "      <td>4.876417</td>\n",
       "      <td>7.006337</td>\n",
       "      <td>2.755768</td>\n",
       "      <td>6.689131</td>\n",
       "      <td>7.516358</td>\n",
       "      <td>3.857300</td>\n",
       "      <td>7.380388</td>\n",
       "    </tr>\n",
       "  </tbody>\n",
       "</table>\n",
       "</div>"
      ],
      "text/plain": [
       "      emb_1     emb_2      emb_3     emb_4     emb_5     emb_6     emb_7  \\\n",
       "0  2.961096  7.419236   8.469494  6.025414  5.952639  3.731661  6.739046   \n",
       "1  3.454718  7.031582   8.077419  4.293340  6.288572  3.953180  6.260670   \n",
       "2  4.119293  6.360645   8.317073  4.873484  5.937131  3.909969  5.870169   \n",
       "3  3.484880  6.753818   8.114833  5.083810  6.271190  3.832956  6.765232   \n",
       "4  5.731535  6.183383  11.713827  4.876417  7.006337  2.755768  6.689131   \n",
       "\n",
       "      emb_8     emb_9    emb_10  \n",
       "0  5.791390  3.540363  7.032580  \n",
       "1  5.598912  3.967519  7.890588  \n",
       "2  6.559531  3.971288  6.963860  \n",
       "3  5.900875  3.829377  7.013055  \n",
       "4  7.516358  3.857300  7.380388  "
      ]
     },
     "execution_count": 194,
     "metadata": {},
     "output_type": "execute_result"
    }
   ],
   "source": [
    "umap_df_test=get_umap(X_test, 10)\n",
    "\n",
    "umap_df_test.head()"
   ]
  },
  {
   "cell_type": "code",
   "execution_count": 195,
   "id": "5e1974de",
   "metadata": {},
   "outputs": [
    {
     "data": {
      "text/plain": [
       "RandomForestRegressor()"
      ]
     },
     "execution_count": 195,
     "metadata": {},
     "output_type": "execute_result"
    }
   ],
   "source": [
    "bosque.fit(umap_df, y_train)"
   ]
  },
  {
   "cell_type": "code",
   "execution_count": 196,
   "id": "d7af83b5",
   "metadata": {},
   "outputs": [],
   "source": [
    "y_pred=bosque.predict(umap_df_test)"
   ]
  },
  {
   "cell_type": "code",
   "execution_count": 197,
   "id": "b01061e2",
   "metadata": {},
   "outputs": [
    {
     "data": {
      "text/plain": [
       "365.94099844933305"
      ]
     },
     "execution_count": 197,
     "metadata": {},
     "output_type": "execute_result"
    }
   ],
   "source": [
    "mse(y_test, y_pred, squared=False)"
   ]
  },
  {
   "cell_type": "code",
   "execution_count": 198,
   "id": "e7a280b8",
   "metadata": {},
   "outputs": [],
   "source": [
    "test=pd.read_csv('test.csv')"
   ]
  },
  {
   "cell_type": "code",
   "execution_count": 199,
   "id": "06db2723",
   "metadata": {},
   "outputs": [
    {
     "name": "stdout",
     "output_type": "stream",
     "text": [
      "<class 'pandas.core.frame.DataFrame'>\n",
      "RangeIndex: 1389 entries, 0 to 1388\n",
      "Data columns (total 10 columns):\n",
      " #   Column                  Non-Null Count  Dtype  \n",
      "---  ------                  --------------  -----  \n",
      " 0   property_type           1389 non-null   object \n",
      " 1   neighbourhood_cleansed  1389 non-null   object \n",
      " 2   host_location           1389 non-null   object \n",
      " 3   availability_30         1389 non-null   int64  \n",
      " 4   accommodates            1389 non-null   int64  \n",
      " 5   host_verifications      1389 non-null   object \n",
      " 6   bedrooms                1389 non-null   float64\n",
      " 7   availability_365        1389 non-null   int64  \n",
      " 8   amenities               1389 non-null   object \n",
      " 9   room_type               1389 non-null   object \n",
      "dtypes: float64(1), int64(3), object(6)\n",
      "memory usage: 108.6+ KB\n"
     ]
    }
   ],
   "source": [
    "test=test[cs]\n",
    "test.fillna(test.bedrooms.mean(),inplace=True)\n",
    "test.info()"
   ]
  },
  {
   "cell_type": "code",
   "execution_count": 200,
   "id": "fd9dc0d1",
   "metadata": {},
   "outputs": [],
   "source": [
    "test=test[cs]\n",
    "\n",
    "test['neighbourhood_cleansed']=test['neighbourhood_cleansed'].map(n)\n",
    "\n",
    "test.neighbourhood_cleansed=[float(test.neighbourhood_cleansed[i][0]) for i in range(len(test))]\n",
    "test[columnas]=scaler.fit_transform(test[columnas])\n",
    "\n",
    "test=pd.get_dummies(test, columns=['property_type', 'host_location', 'host_verifications', 'amenities', 'room_type'], drop_first=True)"
   ]
  },
  {
   "cell_type": "code",
   "execution_count": 201,
   "id": "79be8a72",
   "metadata": {},
   "outputs": [
    {
     "data": {
      "text/html": [
       "<div>\n",
       "<style scoped>\n",
       "    .dataframe tbody tr th:only-of-type {\n",
       "        vertical-align: middle;\n",
       "    }\n",
       "\n",
       "    .dataframe tbody tr th {\n",
       "        vertical-align: top;\n",
       "    }\n",
       "\n",
       "    .dataframe thead th {\n",
       "        text-align: right;\n",
       "    }\n",
       "</style>\n",
       "<table border=\"1\" class=\"dataframe\">\n",
       "  <thead>\n",
       "    <tr style=\"text-align: right;\">\n",
       "      <th></th>\n",
       "      <th>emb_1</th>\n",
       "      <th>emb_2</th>\n",
       "      <th>emb_3</th>\n",
       "      <th>emb_4</th>\n",
       "      <th>emb_5</th>\n",
       "      <th>emb_6</th>\n",
       "      <th>emb_7</th>\n",
       "      <th>emb_8</th>\n",
       "      <th>emb_9</th>\n",
       "      <th>emb_10</th>\n",
       "    </tr>\n",
       "  </thead>\n",
       "  <tbody>\n",
       "    <tr>\n",
       "      <th>0</th>\n",
       "      <td>6.936970</td>\n",
       "      <td>8.650417</td>\n",
       "      <td>5.611289</td>\n",
       "      <td>8.878101</td>\n",
       "      <td>5.107585</td>\n",
       "      <td>3.519489</td>\n",
       "      <td>1.583828</td>\n",
       "      <td>7.422377</td>\n",
       "      <td>5.529136</td>\n",
       "      <td>3.747056</td>\n",
       "    </tr>\n",
       "    <tr>\n",
       "      <th>1</th>\n",
       "      <td>7.937324</td>\n",
       "      <td>7.707196</td>\n",
       "      <td>6.918482</td>\n",
       "      <td>7.623968</td>\n",
       "      <td>5.894364</td>\n",
       "      <td>3.391107</td>\n",
       "      <td>1.604715</td>\n",
       "      <td>7.576942</td>\n",
       "      <td>6.454978</td>\n",
       "      <td>4.461397</td>\n",
       "    </tr>\n",
       "    <tr>\n",
       "      <th>2</th>\n",
       "      <td>9.595391</td>\n",
       "      <td>9.034936</td>\n",
       "      <td>6.880110</td>\n",
       "      <td>7.997525</td>\n",
       "      <td>3.931736</td>\n",
       "      <td>2.979693</td>\n",
       "      <td>1.207318</td>\n",
       "      <td>6.162720</td>\n",
       "      <td>5.039669</td>\n",
       "      <td>4.095760</td>\n",
       "    </tr>\n",
       "    <tr>\n",
       "      <th>3</th>\n",
       "      <td>7.909123</td>\n",
       "      <td>9.665518</td>\n",
       "      <td>6.036791</td>\n",
       "      <td>8.762100</td>\n",
       "      <td>5.026231</td>\n",
       "      <td>3.208916</td>\n",
       "      <td>1.241448</td>\n",
       "      <td>7.577932</td>\n",
       "      <td>5.520384</td>\n",
       "      <td>3.736416</td>\n",
       "    </tr>\n",
       "    <tr>\n",
       "      <th>4</th>\n",
       "      <td>9.267932</td>\n",
       "      <td>10.107610</td>\n",
       "      <td>6.317902</td>\n",
       "      <td>7.886936</td>\n",
       "      <td>3.790035</td>\n",
       "      <td>2.615707</td>\n",
       "      <td>0.324799</td>\n",
       "      <td>7.260618</td>\n",
       "      <td>4.107158</td>\n",
       "      <td>3.937940</td>\n",
       "    </tr>\n",
       "  </tbody>\n",
       "</table>\n",
       "</div>"
      ],
      "text/plain": [
       "      emb_1      emb_2     emb_3     emb_4     emb_5     emb_6     emb_7  \\\n",
       "0  6.936970   8.650417  5.611289  8.878101  5.107585  3.519489  1.583828   \n",
       "1  7.937324   7.707196  6.918482  7.623968  5.894364  3.391107  1.604715   \n",
       "2  9.595391   9.034936  6.880110  7.997525  3.931736  2.979693  1.207318   \n",
       "3  7.909123   9.665518  6.036791  8.762100  5.026231  3.208916  1.241448   \n",
       "4  9.267932  10.107610  6.317902  7.886936  3.790035  2.615707  0.324799   \n",
       "\n",
       "      emb_8     emb_9    emb_10  \n",
       "0  7.422377  5.529136  3.747056  \n",
       "1  7.576942  6.454978  4.461397  \n",
       "2  6.162720  5.039669  4.095760  \n",
       "3  7.577932  5.520384  3.736416  \n",
       "4  7.260618  4.107158  3.937940  "
      ]
     },
     "execution_count": 201,
     "metadata": {},
     "output_type": "execute_result"
    }
   ],
   "source": [
    "umap_test=get_umap(test, 10)\n",
    "\n",
    "umap_test.head()\n",
    "\n"
   ]
  },
  {
   "cell_type": "code",
   "execution_count": 202,
   "id": "ae99a778",
   "metadata": {},
   "outputs": [],
   "source": [
    "y_buena=bosque.predict(umap_test)"
   ]
  },
  {
   "cell_type": "code",
   "execution_count": 203,
   "id": "efc9c572",
   "metadata": {},
   "outputs": [],
   "source": [
    "sample=pd.read_csv('sample.csv')"
   ]
  },
  {
   "cell_type": "code",
   "execution_count": 204,
   "id": "6106d54e",
   "metadata": {},
   "outputs": [],
   "source": [
    "sample['price']=y_buena"
   ]
  },
  {
   "cell_type": "code",
   "execution_count": 205,
   "id": "129a4c58",
   "metadata": {},
   "outputs": [],
   "source": [
    "sample.to_csv('jueves.csv', index=False)"
   ]
  },
  {
   "cell_type": "code",
   "execution_count": 206,
   "id": "5670763f",
   "metadata": {},
   "outputs": [],
   "source": [
    "from sklearn.linear_model import Lasso"
   ]
  },
  {
   "cell_type": "code",
   "execution_count": 207,
   "id": "51b47a90",
   "metadata": {},
   "outputs": [],
   "source": [
    "lasso=Lasso()"
   ]
  },
  {
   "cell_type": "code",
   "execution_count": 208,
   "id": "08673b9e",
   "metadata": {},
   "outputs": [
    {
     "data": {
      "text/plain": [
       "Lasso()"
      ]
     },
     "execution_count": 208,
     "metadata": {},
     "output_type": "execute_result"
    }
   ],
   "source": [
    "lasso.fit(umap_df, y_train)"
   ]
  },
  {
   "cell_type": "code",
   "execution_count": 209,
   "id": "2d6472bb",
   "metadata": {},
   "outputs": [],
   "source": [
    "y_mess=lasso.predict(umap_df_test)"
   ]
  },
  {
   "cell_type": "code",
   "execution_count": 210,
   "id": "2a298c3c",
   "metadata": {},
   "outputs": [
    {
     "data": {
      "text/plain": [
       "213.95563439973546"
      ]
     },
     "execution_count": 210,
     "metadata": {},
     "output_type": "execute_result"
    }
   ],
   "source": [
    "mse(y_test, y_mess, squared=False)"
   ]
  },
  {
   "cell_type": "code",
   "execution_count": 211,
   "id": "345fafbb",
   "metadata": {},
   "outputs": [],
   "source": [
    "y_sergio=lasso.predict(umap_test)"
   ]
  },
  {
   "cell_type": "code",
   "execution_count": 212,
   "id": "6cb3ff75",
   "metadata": {},
   "outputs": [],
   "source": [
    "sample['price']=y_sergio\n",
    "sample.to_csv('sergio.csv', index=False)"
   ]
  },
  {
   "cell_type": "code",
   "execution_count": null,
   "id": "0ef07254",
   "metadata": {},
   "outputs": [],
   "source": []
  }
 ],
 "metadata": {
  "kernelspec": {
   "display_name": "Python 3 (ipykernel)",
   "language": "python",
   "name": "python3"
  },
  "language_info": {
   "codemirror_mode": {
    "name": "ipython",
    "version": 3
   },
   "file_extension": ".py",
   "mimetype": "text/x-python",
   "name": "python",
   "nbconvert_exporter": "python",
   "pygments_lexer": "ipython3",
   "version": "3.9.7"
  }
 },
 "nbformat": 4,
 "nbformat_minor": 5
}
